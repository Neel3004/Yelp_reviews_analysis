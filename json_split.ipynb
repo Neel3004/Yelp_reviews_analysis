{
 "cells": [
  {
   "cell_type": "code",
   "execution_count": 2,
   "id": "487627a4-e88d-4339-b972-a3bd15393b04",
   "metadata": {},
   "outputs": [
    {
     "name": "stdout",
     "output_type": "stream",
     "text": [
      "Counting total lines...\n",
      "Total lines: 6990280\n",
      "Starting split...\n",
      "Wrote: output_splits/split_1.json\n",
      "Wrote: output_splits/split_2.json\n",
      "Wrote: output_splits/split_3.json\n",
      "Wrote: output_splits/split_4.json\n",
      "Wrote: output_splits/split_5.json\n",
      "Wrote: output_splits/split_6.json\n",
      "Wrote: output_splits/split_7.json\n",
      "Wrote: output_splits/split_8.json\n",
      "Wrote: output_splits/split_9.json\n",
      "Wrote: output_splits/split_10.json\n",
      "✅ Done splitting!\n"
     ]
    }
   ],
   "source": [
    "import os\n",
    "import math\n",
    "\n",
    "def split_ndjson_efficient(input_file, output_dir, num_splits=10):\n",
    "    os.makedirs(output_dir, exist_ok=True)\n",
    "\n",
    "    print(\"Counting total lines...\")\n",
    "    with open(input_file, 'r', encoding='utf-8') as f:\n",
    "        total_lines = sum(1 for _ in f)\n",
    "\n",
    "    print(f\"Total lines: {total_lines}\")\n",
    "    lines_per_file = math.ceil(total_lines / num_splits)\n",
    "\n",
    "    print(\"Starting split...\")\n",
    "    with open(input_file, 'r', encoding='utf-8') as f:\n",
    "        for i in range(num_splits):\n",
    "            output_path = os.path.join(output_dir, f'split_{i+1}.json')\n",
    "            with open(output_path, 'w', encoding='utf-8') as out_f:\n",
    "                for _ in range(lines_per_file):\n",
    "                    line = f.readline()\n",
    "                    if not line:\n",
    "                        break  # EOF\n",
    "                    out_f.write(line)\n",
    "            print(f\"Wrote: {output_path}\")\n",
    "\n",
    "    print(\"✅ Done splitting!\")\n",
    "\n",
    "# Example usage:\n",
    "split_ndjson_efficient('yelp_academic_dataset_review.json', 'output_splits')\n"
   ]
  },
  {
   "cell_type": "code",
   "execution_count": null,
   "id": "cb9eb8fb-5f63-46be-96f2-ee1187356ecf",
   "metadata": {},
   "outputs": [],
   "source": []
  }
 ],
 "metadata": {
  "kernelspec": {
   "display_name": "Python 3 (ipykernel)",
   "language": "python",
   "name": "python3"
  },
  "language_info": {
   "codemirror_mode": {
    "name": "ipython",
    "version": 3
   },
   "file_extension": ".py",
   "mimetype": "text/x-python",
   "name": "python",
   "nbconvert_exporter": "python",
   "pygments_lexer": "ipython3",
   "version": "3.13.5"
  }
 },
 "nbformat": 4,
 "nbformat_minor": 5
}
